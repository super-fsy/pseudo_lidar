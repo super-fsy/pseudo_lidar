{
 "cells": [
  {
   "attachments": {},
   "cell_type": "markdown",
   "metadata": {},
   "source": [
    "## Please first install these libraries\n",
    "pip install pythreejs pyntcloud pandas numpy"
   ]
  },
  {
   "cell_type": "code",
   "execution_count": 7,
   "metadata": {},
   "outputs": [],
   "source": [
    "from pyntcloud import PyntCloud\n",
    "import pandas as pd\n",
    "import os\n",
    "import numpy as np\n",
    "import PIL.Image as Image\n",
    "%matplotlib inline"
   ]
  },
  {
   "cell_type": "code",
   "execution_count": 8,
   "metadata": {},
   "outputs": [],
   "source": [
    "def load_velo_scan(velo_filename):\n",
    "    scan = np.fromfile(velo_filename, dtype=np.float32)\n",
    "    scan = scan.reshape((-1, 4))\n",
    "    return scan"
   ]
  },
  {
   "cell_type": "code",
   "execution_count": 9,
   "metadata": {},
   "outputs": [],
   "source": [
    "def paint_points(points, color=[192,0,0]):\n",
    "# def paint_points(points, color):\n",
    "    # color = [r, g, b]\n",
    "    color = np.array([color])\n",
    "    new_pts = np.zeros([points.shape[0],6])\n",
    "    new_pts[:,:3] = points\n",
    "    new_pts[:, 3:] = new_pts[:, 3:] + color\n",
    "    return new_pts"
   ]
  },
  {
   "cell_type": "code",
   "execution_count": 10,
   "metadata": {},
   "outputs": [],
   "source": [
    "# from importlib.resources import path\n",
    "\n",
    "\n",
    "root_path = os.path.abspath(os.path.join(os.getcwd(), \"../../..\")) #上三级目录\n",
    "\n",
    "# data_path = root_path+'/Dataset/Kitti/object/training/predict_velodyne_sceneflow/' #训练集\n",
    "# data_path_1 = root_path+'/Dataset/KITTI/object/training/pseudo-lidar_velodyne_finetune300_selftrain/'        #测试集\n",
    "data_path_1 = root_path+'/Dataset/KITTI/object/training/predict_velodyne_finetune300_selftrain/'        #训练集\n",
    "data_path_2 = root_path+'/Dataset/KITTI/object/training/velodyne/'\n",
    "\n",
    "# root_path = root_path+'/Dataset/Kitti/object/training/velodyne/' \n",
    "path1 = data_path_1+'000008.bin'\n",
    "path2 = data_path_2+'000008.bin'\n",
    "path = './000003.bin'\n"
   ]
  },
  {
   "cell_type": "code",
   "execution_count": 11,
   "metadata": {},
   "outputs": [],
   "source": [
    "points1 = load_velo_scan(path1)[:,:3]\n",
    "points2 = load_velo_scan(path2)[:,:3]\n",
    "points = load_velo_scan(path)[:,:3]"
   ]
  },
  {
   "cell_type": "code",
   "execution_count": 6,
   "metadata": {},
   "outputs": [],
   "source": [
    "#点云上色\n",
    "points1=paint_points(points1,color=[192,0,0])\n",
    "points2=paint_points(points2,color=[0,192,0])\n",
    "#点云拼接\n",
    "points = np.concatenate((points1, points2), axis=0)"
   ]
  },
  {
   "cell_type": "code",
   "execution_count": 21,
   "metadata": {},
   "outputs": [],
   "source": [
    "\n",
    "pd_points = pd.DataFrame(paint_points(points), columns=['x','y','z','red','green','blue'])\n",
    "# pd_points = pd.DataFrame(points, columns=['x','y','z','red','green','blue'])\n",
    "# pd_points = pd.DataFrame(paint_points(points2), columns=['x','y','z','red','green','blue'])\n",
    "# pd_points = pd.DataFrame(paint_points(points2), columns=['x','y','z','red','green','blue'])"
   ]
  },
  {
   "cell_type": "code",
   "execution_count": 23,
   "metadata": {},
   "outputs": [
    {
     "name": "stderr",
     "output_type": "stream",
     "text": [
      "d:\\LearningSoftware\\anaconda3\\envs\\pseudo-lidar\\lib\\site-packages\\pythreejs\\traits.py:257: UserWarning: 64-bit data types not supported for WebGL data, casting to 32-bit.\n",
      "  warnings.warn('64-bit data types not supported for WebGL '\n"
     ]
    },
    {
     "data": {
      "application/vnd.jupyter.widget-view+json": {
       "model_id": "facb9f04dc79431b90c395ef5f9ce1fb",
       "version_major": 2,
       "version_minor": 0
      },
      "text/plain": [
       "Renderer(camera=PerspectiveCamera(aspect=1.6, fov=90.0, position=(10.296987368063286, 8.348319653750698, 0.828…"
      ]
     },
     "metadata": {},
     "output_type": "display_data"
    },
    {
     "data": {
      "application/vnd.jupyter.widget-view+json": {
       "model_id": "84560e482e0f431cb8c8ce374e48cce5",
       "version_major": 2,
       "version_minor": 0
      },
      "text/plain": [
       "HBox(children=(Label(value='Point size:'), FloatSlider(value=0.02, max=0.2, step=0.0002), Label(value='Backgro…"
      ]
     },
     "metadata": {},
     "output_type": "display_data"
    }
   ],
   "source": [
    "cloud = PyntCloud(pd_points)\n",
    "cloud.plot(initial_point_size=0.02)"
   ]
  },
  {
   "attachments": {},
   "cell_type": "markdown",
   "metadata": {},
   "source": [
    "## The expected interface is shown bellow. If you cannot get it, please reopen your web browser."
   ]
  },
  {
   "cell_type": "code",
   "execution_count": 1,
   "metadata": {},
   "outputs": [
    {
     "ename": "NameError",
     "evalue": "name 'Image' is not defined",
     "output_type": "error",
     "traceback": [
      "\u001b[1;31m---------------------------------------------------------------------------\u001b[0m",
      "\u001b[1;31mNameError\u001b[0m                                 Traceback (most recent call last)",
      "\u001b[1;32m~\\AppData\\Local\\Temp\\ipykernel_17460\\2801710969.py\u001b[0m in \u001b[0;36m<cell line: 1>\u001b[1;34m()\u001b[0m\n\u001b[1;32m----> 1\u001b[1;33m \u001b[0mImage\u001b[0m\u001b[1;33m.\u001b[0m\u001b[0mopen\u001b[0m\u001b[1;33m(\u001b[0m\u001b[1;34m'./pyntcloud.png'\u001b[0m\u001b[1;33m)\u001b[0m\u001b[1;33m\u001b[0m\u001b[1;33m\u001b[0m\u001b[0m\n\u001b[0m",
      "\u001b[1;31mNameError\u001b[0m: name 'Image' is not defined"
     ]
    }
   ],
   "source": [
    "Image.open('./pyntcloud.png')"
   ]
  }
 ],
 "metadata": {
  "kernelspec": {
   "display_name": "Python 3.9.13 ('pytorch112')",
   "language": "python",
   "name": "python3"
  },
  "language_info": {
   "codemirror_mode": {
    "name": "ipython",
    "version": 3
   },
   "file_extension": ".py",
   "mimetype": "text/x-python",
   "name": "python",
   "nbconvert_exporter": "python",
   "pygments_lexer": "ipython3",
   "version": "3.9.16"
  },
  "vscode": {
   "interpreter": {
    "hash": "6e9af720c90f99b630f58d491b84418f5aa494729429dfd81bbad893d7ae20bc"
   }
  }
 },
 "nbformat": 4,
 "nbformat_minor": 4
}
